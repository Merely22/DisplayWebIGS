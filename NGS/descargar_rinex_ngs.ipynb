{
  "cells": [
    {
      "cell_type": "code",
      "execution_count": 28,
      "id": "b1efefc2",
      "metadata": {
        "id": "b1efefc2"
      },
      "outputs": [],
      "source": [
        "import pandas as pd\n",
        "import requests\n",
        "from datetime import datetime\n",
        "from geopy.distance import geodesic"
      ]
    },
    {
      "cell_type": "markdown",
      "source": [
        "# **Función carga de archivo NGS Cors local**\n",
        "\n",
        "Lee archivo de manera local el registro de las estaciones existentes de la RED CORS NGS para obtener la lsita de estaciones y sus posiciones aproximadas."
      ],
      "metadata": {
        "id": "2Nc-XA-zkXBa"
      },
      "id": "2Nc-XA-zkXBa"
    },
    {
      "cell_type": "code",
      "source": [
        "def cargar_estaciones_local(ruta_csv=\"NOAACORSNetwork.csv\"):\n",
        "    df = pd.read_csv(ruta_csv, sep=\",\", encoding=\"utf-8-sig\", on_bad_lines='warn')\n",
        "    if 'x' in df.columns and 'y' in df.columns:\n",
        "        df = df[df['x'].str.contains(\",\", na=False) & df['y'].str.contains(\",\", na=False)].copy()\n",
        "        df['Longitude'] = df['x'].str.replace(\",\", \".\", regex=False).astype(float)\n",
        "        df['Latitude'] = df['y'].str.replace(\",\", \".\", regex=False).astype(float)\n",
        "    elif 'LATITUDE' in df.columns and 'LONGITUDE' in df.columns:\n",
        "        df['Latitude'] = df['LATITUDE'].str.replace(\",\", \".\", regex=False).astype(float)\n",
        "        df['Longitude'] = df['LONGITUDE'].str.replace(\",\", \".\", regex=False).astype(float)\n",
        "    else:\n",
        "        raise ValueError(\"No se encontraron columnas válidas de coordenadas.\")\n",
        "    return df"
      ],
      "metadata": {
        "id": "AQqQuzO_-xau"
      },
      "id": "AQqQuzO_-xau",
      "execution_count": 27,
      "outputs": []
    },
    {
      "cell_type": "markdown",
      "source": [
        "# **Función de obtener el día del año**\n",
        "De acuerdo al formato de fecha convencional obtiene el año y el día del año para busqueda de archivos."
      ],
      "metadata": {
        "id": "iO-r2qb3kuuH"
      },
      "id": "iO-r2qb3kuuH"
    },
    {
      "cell_type": "code",
      "source": [
        "def fecha_a_doy(fecha_str):\n",
        "    fecha = datetime.strptime(fecha_str, \"%Y-%m-%d\")\n",
        "    anio = fecha.year\n",
        "    doy = fecha.timetuple().tm_yday\n",
        "    return anio, doy"
      ],
      "metadata": {
        "id": "6ni_wSQk-yf8"
      },
      "id": "6ni_wSQk-yf8",
      "execution_count": 29,
      "outputs": []
    },
    {
      "cell_type": "markdown",
      "source": [
        "#**Función de obtener estaciones cercanas**"
      ],
      "metadata": {
        "id": "f0s2xeP9kzIG"
      },
      "id": "f0s2xeP9kzIG"
    },
    {
      "cell_type": "markdown",
      "source": [
        "Se obtienen estaciones más cercanas"
      ],
      "metadata": {
        "id": "JD7R07fWmERW"
      },
      "id": "JD7R07fWmERW"
    },
    {
      "cell_type": "code",
      "source": [
        "def estaciones_mas_cercanas(df, lat_usuario, lon_usuario, n=4):\n",
        "    punto_usuario = (lat_usuario, lon_usuario)\n",
        "    df['Distancia_km'] = df.apply(lambda row: geodesic(punto_usuario, (row['Latitude'], row['Longitude'])).kilometers, axis=1)\n",
        "    return df.sort_values('Distancia_km').head(n).copy()"
      ],
      "metadata": {
        "id": "BlXjgC1W-0YL"
      },
      "id": "BlXjgC1W-0YL",
      "execution_count": 30,
      "outputs": []
    },
    {
      "cell_type": "markdown",
      "source": [
        "# **Función nombrar archivo de acuerdo a nomenclatura**"
      ],
      "metadata": {
        "id": "eb8jch7zlAVB"
      },
      "id": "eb8jch7zlAVB"
    },
    {
      "cell_type": "markdown",
      "source": [
        "Se nombra los archivos para construir el vinculo"
      ],
      "metadata": {
        "id": "uUL76rSwmHPZ"
      },
      "id": "uUL76rSwmHPZ"
    },
    {
      "cell_type": "code",
      "source": [
        "def generar_nombre_archivo(siteid, anio, doy, tipo='obs'):\n",
        "    siteid = siteid.lower()\n",
        "    yy = str(anio)[-2:]\n",
        "    doy_str = str(doy).zfill(3)\n",
        "    if tipo == 'obs':\n",
        "        return f\"{siteid}{doy_str}0.{yy}o.gz\"\n",
        "    elif tipo == 'crx':\n",
        "        return f\"{siteid}{doy_str}0.{yy}d.gz\"\n",
        "    else:\n",
        "        raise ValueError(\"Tipo inválido: usa 'obs' o 'crx'.\")"
      ],
      "metadata": {
        "id": "RGcMHGRP-1rw"
      },
      "id": "RGcMHGRP-1rw",
      "execution_count": 31,
      "outputs": []
    },
    {
      "cell_type": "markdown",
      "source": [
        "# **Función de comprobación de disponibilidad del archivo**"
      ],
      "metadata": {
        "id": "ZNUqKqvflHri"
      },
      "id": "ZNUqKqvflHri"
    },
    {
      "cell_type": "markdown",
      "source": [
        "Obtiene una lista de vinculos disponibles de la base de datos (hace una consulta), de esta manera compara los vinculos que se generaron y evalua disponibilidad de los datos."
      ],
      "metadata": {
        "id": "_GGqGM4amT2z"
      },
      "id": "_GGqGM4amT2z"
    },
    {
      "cell_type": "code",
      "source": [
        "def verificar_disponibilidad_rinex(df_cercanas, anio, doy, tipo='obs'):\n",
        "    doy_str = str(doy).zfill(3)\n",
        "    url_lista = f\"https://noaa-cors-pds.s3.amazonaws.com/rinex/{anio}/{doy_str}/{anio}.{doy_str}.files.list\"\n",
        "    try:\n",
        "        r = requests.get(url_lista)\n",
        "        r.raise_for_status()\n",
        "        contenido = r.text\n",
        "    except Exception as e:\n",
        "        print(f\"❌ Error al obtener lista de archivos: {e}\")\n",
        "        df_cercanas['Disponible'] = \"ERROR\"\n",
        "        df_cercanas['URL'] = None\n",
        "        return df_cercanas\n",
        "\n",
        "    disponibles = []\n",
        "    urls = []\n",
        "\n",
        "    for _, row in df_cercanas.iterrows():\n",
        "        siteid = row['SITEID'].lower()\n",
        "        nombre_archivo = generar_nombre_archivo(siteid, anio, doy, tipo)\n",
        "        if nombre_archivo in contenido:\n",
        "            disponibles.append(\"SI\")\n",
        "            url = f\"https://noaa-cors-pds.s3.amazonaws.com/rinex/{anio}/{doy_str}/{siteid}/{nombre_archivo}\"\n",
        "            urls.append(url)\n",
        "        else:\n",
        "            disponibles.append(\"NO\")\n",
        "            urls.append(None)\n",
        "\n",
        "    df_cercanas['Disponible'] = disponibles\n",
        "    df_cercanas['URL'] = urls\n",
        "    return df_cercanas\n"
      ],
      "metadata": {
        "id": "qKZEbJEG-3zc"
      },
      "id": "qKZEbJEG-3zc",
      "execution_count": 32,
      "outputs": []
    },
    {
      "cell_type": "code",
      "source": [],
      "metadata": {
        "id": "E-rsc6wAlRs1"
      },
      "id": "E-rsc6wAlRs1",
      "execution_count": null,
      "outputs": []
    },
    {
      "cell_type": "markdown",
      "source": [
        "# **DESCARGA**"
      ],
      "metadata": {
        "id": "xPWaAwsalS7Q"
      },
      "id": "xPWaAwsalS7Q"
    },
    {
      "cell_type": "markdown",
      "source": [
        "Descarga del vinculo según la selección del url seleccionado."
      ],
      "metadata": {
        "id": "mk22ryjxmjf3"
      },
      "id": "mk22ryjxmjf3"
    },
    {
      "cell_type": "code",
      "execution_count": 33,
      "id": "3e745f7c",
      "metadata": {
        "id": "3e745f7c"
      },
      "outputs": [],
      "source": [
        "def descargar_archivo_rinex(url):\n",
        "    try:\n",
        "        nombre_archivo = url.split(\"/\")[-1]\n",
        "        r = requests.get(url)\n",
        "        with open(nombre_archivo, \"wb\") as f:\n",
        "            f.write(r.content)\n",
        "    except Exception as e:\n",
        "        print(f\" Error al descargar: {e}\")"
      ]
    },
    {
      "cell_type": "markdown",
      "source": [
        "# **SUGERENCIA DE FRONTEND**"
      ],
      "metadata": {
        "id": "JzANLVhqlNTL"
      },
      "id": "JzANLVhqlNTL"
    },
    {
      "cell_type": "code",
      "execution_count": 35,
      "id": "0efee48f",
      "metadata": {
        "colab": {
          "base_uri": "https://localhost:8080/"
        },
        "id": "0efee48f",
        "outputId": "534381ee-92d0-444d-e389-992a8b823565"
      },
      "outputs": [
        {
          "output_type": "stream",
          "name": "stdout",
          "text": [
            " Ingrese su latitud (ej. 34.05): 50\n",
            " Ingrese su longitud (ej. -118.25): -90\n",
            "📅 Ingrese la fecha (YYYY-MM-DD): 2023-12-01\n",
            "\n",
            "🧭 Estaciones más cercanas:\n",
            "SITEID  Latitude  Longitude  Distancia_km SAMPLING                                 AGENCY          STATUS Disponible\n",
            "  MNAS    48.294    -92.970    287.964818        5 Minnesota Department of Transportation     Operational         SI\n",
            "  MICP    47.467    -87.874    322.151255        1  Michigan Department of Transportation Non-Operational         SI\n",
            "  MNBD    48.628    -94.067    332.697901        5 Minnesota Department of Transportation     Operational         SI\n",
            "  MNVI    47.523    -92.561    333.611517        5 Minnesota Department of Transportation     Operational         SI\n",
            "\n",
            " Ingrese el SITEID de una estación disponible (o escriba 'salir' para cancelar): SRS1\n",
            " El SITEID ingresado no está en la lista mostrada. Intente nuevamente.\n",
            "\n",
            " Ingrese el SITEID de una estación disponible (o escriba 'salir' para cancelar): salir\n",
            " Operación cancelada por el usuario.\n"
          ]
        }
      ],
      "source": [
        "df_estaciones = cargar_estaciones_local()\n",
        "\n",
        "# 2. Pedir coordenadas del usuario\n",
        "lat = float(input(\" Ingrese su latitud (ej. 34.05): \"))\n",
        "lon = float(input(\" Ingrese su longitud (ej. -118.25): \"))\n",
        "\n",
        "# 3. Pedir fecha\n",
        "fecha = input(\" Ingrese la fecha (YYYY-MM-DD): \")\n",
        "anio, doy = fecha_a_doy(fecha)\n",
        "\n",
        "# 4. Buscar estaciones cercanas y verificar archivos\n",
        "df_cercanas = estaciones_mas_cercanas(df_estaciones, lat, lon)\n",
        "df_cercanas = verificar_disponibilidad_rinex(df_cercanas, anio, doy, tipo='obs')\n",
        "\n",
        "# 5. Mostrar tabla\n",
        "print(\"\\n🧭 Estaciones más cercanas:\")\n",
        "print(df_cercanas[['SITEID', 'Latitude', 'Longitude', 'Distancia_km', 'SAMPLING', 'AGENCY', 'STATUS', 'Disponible']].to_string(index=False))\n",
        "\n",
        "# 6. Selección válida de estación disponible\n",
        "while True:\n",
        "    siteid = input(\"\\n Ingrese el SITEID de una estación disponible (o escriba 'salir' para cancelar): \").strip().upper()\n",
        "\n",
        "    if siteid.lower() == 'salir':\n",
        "        print(\" Operación cancelada por el usuario.\")\n",
        "        break\n",
        "\n",
        "    fila_sel = df_cercanas[df_cercanas['SITEID'] == siteid]\n",
        "\n",
        "    if fila_sel.empty:\n",
        "        print(\" El SITEID ingresado no está en la lista mostrada. Intente nuevamente.\")\n",
        "    elif fila_sel.iloc[0]['Disponible'] != \"SI\":\n",
        "        print(f\" El archivo de {siteid} para el {fecha} NO está disponible. Intente con otro.\")\n",
        "    else:\n",
        "        url = fila_sel.iloc[0]['URL']\n",
        "        descargar_archivo_rinex(url)\n",
        "        print(f\" ✔️ Archivo de {siteid} para el {fecha} descargado exitosamente.\")\n",
        "        break"
      ]
    }
  ],
  "metadata": {
    "colab": {
      "provenance": []
    },
    "language_info": {
      "name": "python"
    },
    "kernelspec": {
      "name": "python3",
      "display_name": "Python 3"
    }
  },
  "nbformat": 4,
  "nbformat_minor": 5
}