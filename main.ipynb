{
  "cells": [
    {
      "cell_type": "markdown",
      "source": [
        "# **\"Detección y Cuantificación del Multipath en Frecuencias L1 y L2 del Sistema GPS utilizando Análisis de Combinaciones Lineales\"**"
      ],
      "metadata": {
        "id": "0huyd8_2TmVy"
      }
    },
    {
      "cell_type": "code",
      "source": [
        "!pip install -q kaleido"
      ],
      "metadata": {
        "id": "NHzjYTOJcJp3"
      },
      "execution_count": null,
      "outputs": []
    },
    {
      "cell_type": "markdown",
      "source": [
        "# **1. OBTENCIÓNDE DATOS DE OBSEVABLES ESTACION GNSS CCDIS**"
      ],
      "metadata": {
        "id": "TouMeZymR_1X"
      }
    },
    {
      "cell_type": "markdown",
      "source": [
        "**1.1 Se importan las galerías.**\n",
        "\n",
        "Se da permiso de ejecución a CRX2RNX y se extraen las librerías que se usarán"
      ],
      "metadata": {
        "id": "N8D451lSRRXY"
      }
    },
    {
      "cell_type": "code",
      "execution_count": null,
      "metadata": {
        "id": "SpQN0vG8J2Y2",
        "colab": {
          "base_uri": "https://localhost:8080/"
        },
        "outputId": "d3a238b4-e7e5-4d3d-c615-174197632fb8"
      },
      "outputs": [
        {
          "output_type": "stream",
          "name": "stdout",
          "text": [
            "Requirement already satisfied: plotly in /usr/local/lib/python3.11/dist-packages (5.24.1)\n",
            "Requirement already satisfied: kaleido in /usr/local/lib/python3.11/dist-packages (0.2.1)\n",
            "Requirement already satisfied: tenacity>=6.2.0 in /usr/local/lib/python3.11/dist-packages (from plotly) (9.1.2)\n",
            "Requirement already satisfied: packaging in /usr/local/lib/python3.11/dist-packages (from plotly) (24.2)\n"
          ]
        }
      ],
      "source": [
        "!pip install plotly kaleido\n",
        "!chmod +x \"CRX2RNX\"\n",
        "import subprocess #ejecutar procesos\n",
        "import requests #conexion para extraer datos de ccdis\n",
        "from getpass import getpass #para ocultar contraseña\n",
        "from pathlib import Path\n",
        "import plotly.graph_objects as go\n",
        "import numpy as np\n",
        "import gzip\n",
        "import shutil\n",
        "import pandas as pd\n",
        "import os"
      ]
    },
    {
      "cell_type": "markdown",
      "metadata": {
        "id": "hMUN7aozts7J"
      },
      "source": [
        "**1.2 Se pide inputs de la fecha de los datos que se quiera obtener.**"
      ]
    },
    {
      "cell_type": "code",
      "execution_count": null,
      "metadata": {
        "colab": {
          "base_uri": "https://localhost:8080/"
        },
        "id": "-N1k5chxV4f7",
        "outputId": "2cb4c351-6197-4f93-d464-bcca93d3deaa"
      },
      "outputs": [
        {
          "name": "stdout",
          "output_type": "stream",
          "text": [
            "Seleccione la fecha para obtención de sus datos de la estación ARE(AREQUIPA PERÚ): \n",
            "Ingrese el año: 2025\n",
            "Ingrese el mes: 05\n",
            "Ingrese el dia: 11\n"
          ]
        }
      ],
      "source": [
        "print(\"Seleccione la fecha para obtención de sus datos de la estación ARE(AREQUIPA PERÚ): \")\n",
        "anio=int(input(\"Ingrese el año: \"))\n",
        "mes=int(input(\"Ingrese el mes: \"))\n",
        "dia=int(input(\"Ingrese el dia: \"))\n",
        "estacion=\"AREG00PER\""
      ]
    },
    {
      "cell_type": "markdown",
      "metadata": {
        "id": "yjHzqCzKjMQh"
      },
      "source": [
        "**1.3 Se calcula el día del año para buscar en carpetas CCDIS.**"
      ]
    },
    {
      "cell_type": "code",
      "execution_count": null,
      "metadata": {
        "colab": {
          "base_uri": "https://localhost:8080/"
        },
        "id": "xi5J1INJwVI5",
        "outputId": "9e210842-3369-471a-a590-c8049e8fb790"
      },
      "outputs": [
        {
          "output_type": "stream",
          "name": "stdout",
          "text": [
            "131\n"
          ]
        }
      ],
      "source": [
        "def es_bisiesto(año):\n",
        "    return (año % 4 == 0 and año % 100 != 0) or (año % 400 == 0)\n",
        "dias_por_mes = [31, 28, 31, 30, 31, 30, 31, 31, 30, 31, 30, 31]\n",
        "if es_bisiesto(anio):\n",
        "    dias_por_mes[1] = 29\n",
        "diadelanio = sum(dias_por_mes[:mes - 1]) + dia\n",
        "dia_del_anio_formateado = str(diadelanio).zfill(3)\n",
        "print(dia_del_anio_formateado)"
      ]
    },
    {
      "cell_type": "code",
      "execution_count": null,
      "metadata": {
        "id": "OzimfgvDtr_c"
      },
      "outputs": [],
      "source": [
        "class SessionWithHeaderRedirection(requests.Session):\n",
        "    AUTH_HOST = 'urs.earthdata.nasa.gov'\n",
        "\n",
        "    def __init__(self, username, password):\n",
        "        super().__init__()\n",
        "        self.auth = (username, password)\n",
        "\n",
        "    def rebuild_auth(self, prepared_request, response):\n",
        "        headers = prepared_request.headers\n",
        "        original_parsed = requests.utils.urlparse(response.request.url)\n",
        "        redirect_parsed = requests.utils.urlparse(prepared_request.url)\n",
        "        if (original_parsed.hostname != redirect_parsed.hostname) and \\\n",
        "           (redirect_parsed.hostname != self.AUTH_HOST) and \\\n",
        "           (original_parsed.hostname != self.AUTH_HOST):\n",
        "            del headers['Authorization']"
      ]
    },
    {
      "cell_type": "markdown",
      "metadata": {
        "id": "fs4q4ttou4QV"
      },
      "source": [
        "**1.5 Se busca los archivos y los descarga**"
      ]
    },
    {
      "cell_type": "code",
      "execution_count": null,
      "metadata": {
        "colab": {
          "base_uri": "https://localhost:8080/"
        },
        "id": "kwlNIavnjPNT",
        "outputId": "07d0c467-25e5-42fc-83ff-dc3a360453ab",
        "scrolled": true
      },
      "outputs": [
        {
          "name": "stdout",
          "output_type": "stream",
          "text": [
            "Usuario Earthdata: joseSG\n",
            "Contraseña Earthdata: ··········\n"
          ]
        }
      ],
      "source": [
        "fecha_texto = f\"{anio}-{str(mes).zfill(2)}-{str(dia).zfill(2)}\"\n",
        "carpeta_salida = Path(f\"{estacion}/{fecha_texto}\")\n",
        "carpeta_salida.mkdir(parents=True, exist_ok=True)\n",
        "def obtener_vinculos(anio, dia_del_anio_formateado, estacion):\n",
        "    urls = []\n",
        "    for hora in range(24):\n",
        "        subcarpeta = f\"{hora:02d}\"\n",
        "        for minuto in range(0, 60, 15):\n",
        "            h = f\"{hora:02d}\"\n",
        "            m = f\"{minuto:02d}\"\n",
        "            nombre_archivo = f\"{estacion}_R_{anio}{dia_del_anio_formateado}{h}{m}_15M_01S_MO.crx.gz\"\n",
        "            url = (f\"https://cddis.nasa.gov/archive/gnss/data/highrate/\"f\"{anio}/{dia_del_anio_formateado}/25d/{subcarpeta}/{nombre_archivo}\")\n",
        "            urls.append((url, nombre_archivo))\n",
        "    return urls\n",
        "# ---------------------- Autenticación Earthdata ----------------------\n",
        "usuario = input(\"Usuario Earthdata: \")\n",
        "contrasena = getpass(\"Contraseña Earthdata: \")\n",
        "session = SessionWithHeaderRedirection(usuario, contrasena)\n",
        "session.headers.update({\"User-Agent\": \"Mozilla/5.0\"})\n",
        "# ---------------------- Descargar archivos ----------------------\n",
        "vinculos = obtener_vinculos(anio, dia_del_anio_formateado, estacion)\n",
        "for url, nombre_archivo in vinculos:\n",
        "    ruta_destino = carpeta_salida / nombre_archivo\n",
        "    if ruta_destino.exists():\n",
        "        continue\n",
        "    try:\n",
        "        response = session.get(url, stream=True)\n",
        "        if \"html\" in response.headers.get(\"Content-Type\", \"\") or response.status_code != 200:\n",
        "            print(f\"No disponible: {nombre_archivo}\")\n",
        "        else:\n",
        "            with open(ruta_destino, \"wb\") as f:\n",
        "                for chunk in response.iter_content(chunk_size=8192):\n",
        "                    f.write(chunk)\n",
        "    except Exception as e:\n",
        "        print(f\"Error al descargar {nombre_archivo}: {e}\")"
      ]
    },
    {
      "cell_type": "markdown",
      "source": [
        "**1.6 Obtener RNX a partir de los comprimidos .crx.gz descargados**\n",
        "\n",
        "Se usa el ejecutable CRX2RNX para Linux desarrollado por Hatanaka, Y."
      ],
      "metadata": {
        "id": "b7dmENujhS_u"
      }
    },
    {
      "cell_type": "code",
      "execution_count": null,
      "metadata": {
        "id": "i53GqV1xIvlj",
        "scrolled": true
      },
      "outputs": [],
      "source": [
        "ruta_crx2rnx = \"/content/CRX2RNX\"\n",
        "def descomprimir_crx_gz(ruta_archivo_gz):\n",
        "    ruta_crx = ruta_archivo_gz.with_suffix(\"\")\n",
        "    if ruta_crx.exists():\n",
        "        print(f\"{ruta_crx.name} ya descomprimido.\")\n",
        "        return ruta_crx\n",
        "    try:\n",
        "        with gzip.open(ruta_archivo_gz, 'rb') as f_in:\n",
        "            with open(ruta_crx, 'wb') as f_out:\n",
        "                shutil.copyfileobj(f_in, f_out)\n",
        "        return ruta_crx\n",
        "    except Exception as e:\n",
        "        print(f\"Error al descomprimir {ruta_archivo_gz.name}: {e}\")\n",
        "        return None\n",
        "def convertir_a_rnx(ruta_crx):\n",
        "    try:\n",
        "        result = subprocess.run(\n",
        "            [ruta_crx2rnx, \"-f\", ruta_crx.name],\n",
        "            cwd=ruta_crx.parent,\n",
        "            capture_output=True,\n",
        "            text=True\n",
        "        )\n",
        "        if result.returncode == 0:\n",
        "            for archivo in ruta_crx.parent.glob(ruta_crx.stem[:4] + \"*.rnx\"):\n",
        "                return archivo\n",
        "        else:\n",
        "            print(f\"Error en conversión:\\n{result.stderr}\")\n",
        "    except Exception as e:\n",
        "        print(f\"Fallo al ejecutar CRX2RNX con {ruta_crx.name}: {e}\")\n",
        "    return None\n",
        "archivos_rnx = []\n",
        "for archivo_gz in sorted(carpeta_salida.glob(\"*.crx.gz\")):\n",
        "    ruta_crx = descomprimir_crx_gz(archivo_gz)\n",
        "    if ruta_crx:\n",
        "        ruta_rnx = convertir_a_rnx(ruta_crx)\n",
        "        if ruta_rnx:\n",
        "            archivos_rnx.append(ruta_rnx)"
      ]
    }
  ],
  "metadata": {
    "colab": {
      "provenance": []
    },
    "kernelspec": {
      "display_name": "Python 3 (ipykernel)",
      "language": "python",
      "name": "python3"
    },
    "language_info": {
      "codemirror_mode": {
        "name": "ipython",
        "version": 3
      },
      "file_extension": ".py",
      "mimetype": "text/x-python",
      "name": "python",
      "nbconvert_exporter": "python",
      "pygments_lexer": "ipython3",
      "version": "3.12.9"
    }
  },
  "nbformat": 4,
  "nbformat_minor": 0
}